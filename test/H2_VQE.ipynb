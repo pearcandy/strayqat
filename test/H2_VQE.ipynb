{
 "cells": [
  {
   "cell_type": "markdown",
   "metadata": {},
   "source": [
    "### Test \n",
    "- Calculate the ground-state energy of the $H_2$ molecule at various bond-lengths\n"
   ]
  },
  {
   "cell_type": "code",
   "execution_count": 1,
   "metadata": {},
   "outputs": [],
   "source": [
    "import strayqat as sq\n",
    "import matplotlib.pyplot as plt\n",
    "%matplotlib inline"
   ]
  },
  {
   "cell_type": "code",
   "execution_count": 2,
   "metadata": {},
   "outputs": [],
   "source": [
    "mol = sq.Molecule()\n",
    "mol.geometry = [[\"H\", [0, 0, 0]], [\"H\", [0, 0, 0.5]]]\n",
    "mol.multiplicity = 1\n",
    "mol.charge = 0"
   ]
  },
  {
   "cell_type": "code",
   "execution_count": 3,
   "metadata": {},
   "outputs": [
    {
     "name": "stdout",
     "output_type": "stream",
     "text": [
      "{'basis': 'sto-3g', 'multiplicity': 1, 'charge': 0, 'geometry': [['H', [0, 0, 0]], ['H', [0, 0, 0.5]]], 'n_active_electrons': None, 'n_active_orbitals': None}\n"
     ]
    }
   ],
   "source": [
    "print(mol)"
   ]
  },
  {
   "cell_type": "code",
   "execution_count": 4,
   "metadata": {},
   "outputs": [
    {
     "name": "stdout",
     "output_type": "stream",
     "text": [
      "FCI: -1.0551597944706257[Hr]\n",
      "HF: -1.042996274540095[Hr]\n"
     ]
    }
   ],
   "source": [
    "# Full CI calculation\n",
    "mol.run_scf()\n",
    "print('FCI: %s[Hr]'% mol.fci_energy)\n",
    "print('HF: %s[Hr]'% mol.hf_energy)"
   ]
  },
  {
   "cell_type": "code",
   "execution_count": 5,
   "metadata": {},
   "outputs": [
    {
     "name": "stdout",
     "output_type": "stream",
     "text": [
      "CASCI: -1.0551597944706232[Hr]\n"
     ]
    }
   ],
   "source": [
    "# CASCI calculation for CAS(2,2)\n",
    "mol.n_active_electrons = 2\n",
    "mol.n_active_orbitals = 2\n",
    "mol.run_scf()\n",
    "print('CASCI: %s[Hr]'% mol.fci_energy)"
   ]
  },
  {
   "cell_type": "code",
   "execution_count": 6,
   "metadata": {},
   "outputs": [
    {
     "name": "stdout",
     "output_type": "stream",
     "text": [
      "{'qubit': 4, 'depth': 6, 'ansatz': 'SYMP', 'maxiter': 100, 'gtol': 1e-06, 'noise': False}\n"
     ]
    }
   ],
   "source": [
    "qubit_num = mol.n_qubits #qubit number\n",
    "hamil = mol.hamiltonian  #hamiltonian\n",
    "\n",
    "\n",
    "vqe = sq.Vqe()\n",
    "# setup\n",
    "vqe.n_qubit = qubit_num\n",
    "vqe.maxiter = 100\n",
    "vqe.gtol = 1e-6\n",
    "vqe.depth = 6\n",
    "vqe.method = 'BFGS' \n",
    "vqe.gpu = False\n",
    "vqe.ansatz_type = 'SYMP'  # choose ansatz, 'HE'or'SYMP'(HE:Hardware Efficiency,SYMP:Symmetry Preserving)\n",
    "vqe.hamiltonian = hamil\n",
    "vqe.noise = False\n",
    "\n",
    "print(vqe)"
   ]
  },
  {
   "cell_type": "code",
   "execution_count": 7,
   "metadata": {},
   "outputs": [
    {
     "name": "stdout",
     "output_type": "stream",
     "text": [
      "VQE: -1.0551597944706206[Hr]\n"
     ]
    }
   ],
   "source": [
    "# run VQE\n",
    "vqe.run()\n",
    "print('VQE: %s[Hr]'% vqe.cost_history[-1]) #FCI : -1.0551597944706257[Hr]"
   ]
  },
  {
   "cell_type": "code",
   "execution_count": 8,
   "metadata": {},
   "outputs": [
    {
     "name": "stdout",
     "output_type": "stream",
     "text": [
      "E(VQE)-E(FCI)[Hr]= 2.6645352591003757e-15\n"
     ]
    }
   ],
   "source": [
    "# difference between the energy of Full CI energy and VQE \n",
    "print('E(VQE)-E(FCI)[Hr]=',vqe.cost_history[-1]-mol.fci_energy)"
   ]
  },
  {
   "cell_type": "code",
   "execution_count": 9,
   "metadata": {},
   "outputs": [
    {
     "data": {
      "text/plain": [
       "[<matplotlib.lines.Line2D at 0x7fbc88fca610>]"
      ]
     },
     "execution_count": 9,
     "metadata": {},
     "output_type": "execute_result"
    },
    {
     "data": {
      "image/png": "[encoded data removed]",
      "text/plain": [
       "<Figure size 432x288 with 1 Axes>"
      ]
     },
     "metadata": {
      "needs_background": "light"
     },
     "output_type": "display_data"
    }
   ],
   "source": [
    "# iteration history\n",
    "plt.plot(vqe.cost_history)"
   ]
  }
 ],
 "metadata": {
  "kernelspec": {
   "display_name": "python3.7",
   "language": "python",
   "name": "python3.7"
  },
  "language_info": {
   "codemirror_mode": {
    "name": "ipython",
    "version": 3
   },
   "file_extension": ".py",
   "mimetype": "text/x-python",
   "name": "python",
   "nbconvert_exporter": "python",
   "pygments_lexer": "ipython3",
   "version": "3.7.7"
  }
 },
 "nbformat": 4,
 "nbformat_minor": 4
}
